{
 "cells": [
  {
   "cell_type": "code",
   "execution_count": 1,
   "id": "f4d0f90a",
   "metadata": {},
   "outputs": [],
   "source": [
    "import pandas as pd\n",
    "import numpy as np\n",
    "import matplotlib.pyplot as plt\n",
    "import seaborn as sns\n",
    "import plotly.graph_objects as go\n",
    "import plotly.express as px\n",
    "import sqlalchemy as sql"
   ]
  },
  {
   "cell_type": "code",
   "execution_count": 2,
   "id": "c3870011",
   "metadata": {},
   "outputs": [],
   "source": [
    "weather_data = pd.read_csv('weather.csv')\n",
    "bin_size = pd.read_csv('BinSize.csv')\n",
    "temp_data = pd.read_csv('temperature.csv')"
   ]
  },
  {
   "cell_type": "code",
   "execution_count": 3,
   "id": "fc1ebdc4",
   "metadata": {},
   "outputs": [
    {
     "data": {
      "text/html": [
       "<div>\n",
       "<style scoped>\n",
       "    .dataframe tbody tr th:only-of-type {\n",
       "        vertical-align: middle;\n",
       "    }\n",
       "\n",
       "    .dataframe tbody tr th {\n",
       "        vertical-align: top;\n",
       "    }\n",
       "\n",
       "    .dataframe thead th {\n",
       "        text-align: right;\n",
       "    }\n",
       "</style>\n",
       "<table border=\"1\" class=\"dataframe\">\n",
       "  <thead>\n",
       "    <tr style=\"text-align: right;\">\n",
       "      <th></th>\n",
       "      <th>Year</th>\n",
       "      <th>Fires</th>\n",
       "      <th>Acres</th>\n",
       "    </tr>\n",
       "  </thead>\n",
       "  <tbody>\n",
       "    <tr>\n",
       "      <th>0</th>\n",
       "      <td>2019</td>\n",
       "      <td>50 477</td>\n",
       "      <td>4 664 364</td>\n",
       "    </tr>\n",
       "    <tr>\n",
       "      <th>1</th>\n",
       "      <td>2018</td>\n",
       "      <td>58 083</td>\n",
       "      <td>8 767 492</td>\n",
       "    </tr>\n",
       "    <tr>\n",
       "      <th>2</th>\n",
       "      <td>2017</td>\n",
       "      <td>71 499</td>\n",
       "      <td>10 026 086</td>\n",
       "    </tr>\n",
       "    <tr>\n",
       "      <th>3</th>\n",
       "      <td>2016</td>\n",
       "      <td>67 743</td>\n",
       "      <td>5 509 995</td>\n",
       "    </tr>\n",
       "  </tbody>\n",
       "</table>\n",
       "</div>"
      ],
      "text/plain": [
       "   Year   Fires       Acres\n",
       "0  2019  50 477   4 664 364\n",
       "1  2018  58 083   8 767 492\n",
       "2  2017  71 499  10 026 086\n",
       "3  2016  67 743   5 509 995"
      ]
     },
     "execution_count": 3,
     "metadata": {},
     "output_type": "execute_result"
    }
   ],
   "source": [
    "weather_data.head(4)"
   ]
  },
  {
   "cell_type": "code",
   "execution_count": 4,
   "id": "32e59f63",
   "metadata": {},
   "outputs": [
    {
     "data": {
      "text/html": [
       "<div>\n",
       "<style scoped>\n",
       "    .dataframe tbody tr th:only-of-type {\n",
       "        vertical-align: middle;\n",
       "    }\n",
       "\n",
       "    .dataframe tbody tr th {\n",
       "        vertical-align: top;\n",
       "    }\n",
       "\n",
       "    .dataframe thead th {\n",
       "        text-align: right;\n",
       "    }\n",
       "</style>\n",
       "<table border=\"1\" class=\"dataframe\">\n",
       "  <thead>\n",
       "    <tr style=\"text-align: right;\">\n",
       "      <th></th>\n",
       "      <th>ID</th>\n",
       "      <th>LATITUDE</th>\n",
       "      <th>LONGITUDE</th>\n",
       "      <th>ELEVATION</th>\n",
       "      <th>STATE</th>\n",
       "      <th>NAME</th>\n",
       "      <th>GSNFLAG</th>\n",
       "      <th>HCNFLAG</th>\n",
       "      <th>WMOID</th>\n",
       "      <th>x</th>\n",
       "      <th>y</th>\n",
       "      <th>x_group</th>\n",
       "      <th>y_group</th>\n",
       "      <th>xy_group</th>\n",
       "      <th>hash</th>\n",
       "    </tr>\n",
       "  </thead>\n",
       "  <tbody>\n",
       "    <tr>\n",
       "      <th>0</th>\n",
       "      <td>AE000041196</td>\n",
       "      <td>25.333</td>\n",
       "      <td>55.517</td>\n",
       "      <td>34.0</td>\n",
       "      <td>NaN</td>\n",
       "      <td>SHARJAH INTER. AIRP</td>\n",
       "      <td>GSN</td>\n",
       "      <td>NaN</td>\n",
       "      <td>41196.0</td>\n",
       "      <td>5.579578e+06</td>\n",
       "      <td>2.816905e+06</td>\n",
       "      <td>5497601.479782179 to 5594934.908498545</td>\n",
       "      <td>2772265.475723952 to 2869598.904440318</td>\n",
       "      <td>5497601.479782179 to 5594934.908498545, 277226...</td>\n",
       "      <td>1f6f0e89f4e937d934fe9acde2545e0d66bbcfe3b66320...</td>\n",
       "    </tr>\n",
       "    <tr>\n",
       "      <th>1</th>\n",
       "      <td>AEM00041194</td>\n",
       "      <td>25.255</td>\n",
       "      <td>55.364</td>\n",
       "      <td>10.4</td>\n",
       "      <td>NaN</td>\n",
       "      <td>DUBAI INTL</td>\n",
       "      <td>NaN</td>\n",
       "      <td>NaN</td>\n",
       "      <td>41194.0</td>\n",
       "      <td>5.567782e+06</td>\n",
       "      <td>2.808232e+06</td>\n",
       "      <td>5497601.479782179 to 5594934.908498545</td>\n",
       "      <td>2772265.475723952 to 2869598.904440318</td>\n",
       "      <td>5497601.479782179 to 5594934.908498545, 277226...</td>\n",
       "      <td>1f6f0e89f4e937d934fe9acde2545e0d66bbcfe3b66320...</td>\n",
       "    </tr>\n",
       "  </tbody>\n",
       "</table>\n",
       "</div>"
      ],
      "text/plain": [
       "            ID  LATITUDE  LONGITUDE  ELEVATION STATE                 NAME  \\\n",
       "0  AE000041196    25.333     55.517       34.0   NaN  SHARJAH INTER. AIRP   \n",
       "1  AEM00041194    25.255     55.364       10.4   NaN           DUBAI INTL   \n",
       "\n",
       "  GSNFLAG HCNFLAG    WMOID             x             y  \\\n",
       "0     GSN     NaN  41196.0  5.579578e+06  2.816905e+06   \n",
       "1     NaN     NaN  41194.0  5.567782e+06  2.808232e+06   \n",
       "\n",
       "                                  x_group  \\\n",
       "0  5497601.479782179 to 5594934.908498545   \n",
       "1  5497601.479782179 to 5594934.908498545   \n",
       "\n",
       "                                  y_group  \\\n",
       "0  2772265.475723952 to 2869598.904440318   \n",
       "1  2772265.475723952 to 2869598.904440318   \n",
       "\n",
       "                                            xy_group  \\\n",
       "0  5497601.479782179 to 5594934.908498545, 277226...   \n",
       "1  5497601.479782179 to 5594934.908498545, 277226...   \n",
       "\n",
       "                                                hash  \n",
       "0  1f6f0e89f4e937d934fe9acde2545e0d66bbcfe3b66320...  \n",
       "1  1f6f0e89f4e937d934fe9acde2545e0d66bbcfe3b66320...  "
      ]
     },
     "execution_count": 4,
     "metadata": {},
     "output_type": "execute_result"
    }
   ],
   "source": [
    "bin_size.head(2)"
   ]
  },
  {
   "cell_type": "code",
   "execution_count": 5,
   "id": "89deae71",
   "metadata": {},
   "outputs": [
    {
     "data": {
      "text/html": [
       "<div>\n",
       "<style scoped>\n",
       "    .dataframe tbody tr th:only-of-type {\n",
       "        vertical-align: middle;\n",
       "    }\n",
       "\n",
       "    .dataframe tbody tr th {\n",
       "        vertical-align: top;\n",
       "    }\n",
       "\n",
       "    .dataframe thead th {\n",
       "        text-align: right;\n",
       "    }\n",
       "</style>\n",
       "<table border=\"1\" class=\"dataframe\">\n",
       "  <thead>\n",
       "    <tr style=\"text-align: right;\">\n",
       "      <th></th>\n",
       "      <th>ID</th>\n",
       "      <th>Date</th>\n",
       "      <th>Element</th>\n",
       "      <th>Data_Value</th>\n",
       "    </tr>\n",
       "  </thead>\n",
       "  <tbody>\n",
       "    <tr>\n",
       "      <th>0</th>\n",
       "      <td>USW00094889</td>\n",
       "      <td>2014-11-12</td>\n",
       "      <td>TMAX</td>\n",
       "      <td>22</td>\n",
       "    </tr>\n",
       "    <tr>\n",
       "      <th>1</th>\n",
       "      <td>USC00208972</td>\n",
       "      <td>2009-04-29</td>\n",
       "      <td>TMIN</td>\n",
       "      <td>56</td>\n",
       "    </tr>\n",
       "    <tr>\n",
       "      <th>2</th>\n",
       "      <td>USC00200032</td>\n",
       "      <td>2008-05-26</td>\n",
       "      <td>TMAX</td>\n",
       "      <td>278</td>\n",
       "    </tr>\n",
       "  </tbody>\n",
       "</table>\n",
       "</div>"
      ],
      "text/plain": [
       "            ID        Date Element  Data_Value\n",
       "0  USW00094889  2014-11-12    TMAX          22\n",
       "1  USC00208972  2009-04-29    TMIN          56\n",
       "2  USC00200032  2008-05-26    TMAX         278"
      ]
     },
     "execution_count": 5,
     "metadata": {},
     "output_type": "execute_result"
    }
   ],
   "source": [
    "temp_data.head(3)"
   ]
  },
  {
   "cell_type": "code",
   "execution_count": 6,
   "id": "3f56f2e1",
   "metadata": {},
   "outputs": [],
   "source": [
    "temp_data.Date = pd.to_datetime(temp_data.Date, format='%Y-%m-%d')"
   ]
  },
  {
   "cell_type": "code",
   "execution_count": 7,
   "id": "5dfa90c9",
   "metadata": {},
   "outputs": [],
   "source": [
    "x = temp_data[temp_data.Date.apply(lambda x: x.year>=2005 and x.year<2014)].groupby\\\n",
    "            (pd.Grouper(key='Date', freq='D')).apply(lambda x: x.loc[(x.Data_Value==x.Data_Value.max())]).drop_duplicates(subset=['Date']).reset_index(drop=True)\n",
    "\n",
    "y = temp_data[temp_data.Date.apply(lambda x: x.year>=2005 and x.year<2014)].groupby\\\n",
    "            (pd.Grouper(key='Date', freq='D')).apply(lambda x: x.loc[(x.Data_Value==x.Data_Value.min())]).drop_duplicates(subset=['Date']).reset_index(drop=True)"
   ]
  },
  {
   "cell_type": "code",
   "execution_count": 8,
   "id": "b31a5794",
   "metadata": {},
   "outputs": [
    {
     "data": {
      "text/html": [
       "<div>\n",
       "<style scoped>\n",
       "    .dataframe tbody tr th:only-of-type {\n",
       "        vertical-align: middle;\n",
       "    }\n",
       "\n",
       "    .dataframe tbody tr th {\n",
       "        vertical-align: top;\n",
       "    }\n",
       "\n",
       "    .dataframe thead th {\n",
       "        text-align: right;\n",
       "    }\n",
       "</style>\n",
       "<table border=\"1\" class=\"dataframe\">\n",
       "  <thead>\n",
       "    <tr style=\"text-align: right;\">\n",
       "      <th></th>\n",
       "      <th>ID</th>\n",
       "      <th>Date</th>\n",
       "      <th>Element</th>\n",
       "      <th>Data_Value</th>\n",
       "    </tr>\n",
       "  </thead>\n",
       "  <tbody>\n",
       "    <tr>\n",
       "      <th>0</th>\n",
       "      <td>USC00205451</td>\n",
       "      <td>2005-01-01</td>\n",
       "      <td>TMAX</td>\n",
       "      <td>156</td>\n",
       "    </tr>\n",
       "    <tr>\n",
       "      <th>1</th>\n",
       "      <td>USC00207320</td>\n",
       "      <td>2005-01-02</td>\n",
       "      <td>TMAX</td>\n",
       "      <td>139</td>\n",
       "    </tr>\n",
       "  </tbody>\n",
       "</table>\n",
       "</div>"
      ],
      "text/plain": [
       "            ID       Date Element  Data_Value\n",
       "0  USC00205451 2005-01-01    TMAX         156\n",
       "1  USC00207320 2005-01-02    TMAX         139"
      ]
     },
     "execution_count": 8,
     "metadata": {},
     "output_type": "execute_result"
    }
   ],
   "source": [
    "x.head(2)"
   ]
  },
  {
   "cell_type": "code",
   "execution_count": 9,
   "id": "64090aa2",
   "metadata": {},
   "outputs": [
    {
     "data": {
      "text/html": [
       "<div>\n",
       "<style scoped>\n",
       "    .dataframe tbody tr th:only-of-type {\n",
       "        vertical-align: middle;\n",
       "    }\n",
       "\n",
       "    .dataframe tbody tr th {\n",
       "        vertical-align: top;\n",
       "    }\n",
       "\n",
       "    .dataframe thead th {\n",
       "        text-align: right;\n",
       "    }\n",
       "</style>\n",
       "<table border=\"1\" class=\"dataframe\">\n",
       "  <thead>\n",
       "    <tr style=\"text-align: right;\">\n",
       "      <th></th>\n",
       "      <th>ID</th>\n",
       "      <th>Date</th>\n",
       "      <th>Element</th>\n",
       "      <th>Data_Value</th>\n",
       "    </tr>\n",
       "  </thead>\n",
       "  <tbody>\n",
       "    <tr>\n",
       "      <th>0</th>\n",
       "      <td>USW00094889</td>\n",
       "      <td>2005-01-01</td>\n",
       "      <td>TMIN</td>\n",
       "      <td>-56</td>\n",
       "    </tr>\n",
       "    <tr>\n",
       "      <th>1</th>\n",
       "      <td>USC00205450</td>\n",
       "      <td>2005-01-02</td>\n",
       "      <td>TMIN</td>\n",
       "      <td>-56</td>\n",
       "    </tr>\n",
       "  </tbody>\n",
       "</table>\n",
       "</div>"
      ],
      "text/plain": [
       "            ID       Date Element  Data_Value\n",
       "0  USW00094889 2005-01-01    TMIN         -56\n",
       "1  USC00205450 2005-01-02    TMIN         -56"
      ]
     },
     "execution_count": 9,
     "metadata": {},
     "output_type": "execute_result"
    }
   ],
   "source": [
    "y.head(2)"
   ]
  },
  {
   "cell_type": "markdown",
   "id": "3ba8aa6d",
   "metadata": {},
   "source": [
    "### line graph of the record high and record low temperatures by day of the year over the period 2005-2014. The area between the record high and record low temperatures for each day should be shaded."
   ]
  },
  {
   "cell_type": "code",
   "execution_count": 10,
   "id": "32ff8f3a",
   "metadata": {},
   "outputs": [
    {
     "data": {
      "image/png": "[encoded data removed]"
     },
     "metadata": {},
     "output_type": "display_data"
    }
   ],
   "source": [
    "fig = go.Figure()\n",
    "\n",
    "fig.add_trace(go.Scatter(\n",
    "    x=x.Date,\n",
    "    y=x.Data_Value,\n",
    "    name = 'TMAX',\n",
    "    line_color='rgb(255,0,0)',\n",
    "))\n",
    "fig.add_trace(go.Scatter(\n",
    "    x=y.Date,\n",
    "    y=y.Data_Value,\n",
    "    name='TMIN',\n",
    "    fill='tonexty',\n",
    "    fillcolor='rgb(128, 128, 128)',\n",
    "    line_color='rgb(0,0,255)',\n",
    "))\n",
    "\n",
    "fig.show('png')"
   ]
  },
  {
   "cell_type": "code",
   "execution_count": 11,
   "id": "d646ddb3",
   "metadata": {},
   "outputs": [
    {
     "name": "stdout",
     "output_type": "stream",
     "text": [
      "406\n",
      "-343\n"
     ]
    }
   ],
   "source": [
    "print(temp_data.Data_Value.max())\n",
    "print(temp_data.Data_Value.min())"
   ]
  },
  {
   "cell_type": "code",
   "execution_count": 12,
   "id": "6811c168",
   "metadata": {
    "scrolled": true
   },
   "outputs": [
    {
     "name": "stdout",
     "output_type": "stream",
     "text": [
      "406\n",
      "-306\n"
     ]
    }
   ],
   "source": [
    "tmax_2005_14 = temp_data[temp_data.Date.apply(lambda x: x.month!=2 and x.day!=29)].loc[(temp_data.Date>='2005-1-1') & (temp_data.Date<'2014-12-31')].Data_Value.max()\n",
    "tmin_2005_14 = temp_data[temp_data.Date.apply(lambda x: x.month!=2 and x.day!=29)].loc[(temp_data.Date>='2005-1-1') & (temp_data.Date<'2014-12-31')].Data_Value.min()\n",
    "print(tmax_2005_14)\n",
    "print(tmin_2005_14)"
   ]
  },
  {
   "cell_type": "code",
   "execution_count": 13,
   "id": "7d008757",
   "metadata": {},
   "outputs": [
    {
     "data": {
      "text/html": [
       "<div>\n",
       "<style scoped>\n",
       "    .dataframe tbody tr th:only-of-type {\n",
       "        vertical-align: middle;\n",
       "    }\n",
       "\n",
       "    .dataframe tbody tr th {\n",
       "        vertical-align: top;\n",
       "    }\n",
       "\n",
       "    .dataframe thead th {\n",
       "        text-align: right;\n",
       "    }\n",
       "</style>\n",
       "<table border=\"1\" class=\"dataframe\">\n",
       "  <thead>\n",
       "    <tr style=\"text-align: right;\">\n",
       "      <th></th>\n",
       "      <th>ID</th>\n",
       "      <th>Date</th>\n",
       "      <th>Element</th>\n",
       "      <th>Data_Value</th>\n",
       "    </tr>\n",
       "  </thead>\n",
       "  <tbody>\n",
       "    <tr>\n",
       "      <th>127333</th>\n",
       "      <td>USC00208972</td>\n",
       "      <td>2015-02-21</td>\n",
       "      <td>TMIN</td>\n",
       "      <td>-322</td>\n",
       "    </tr>\n",
       "    <tr>\n",
       "      <th>128105</th>\n",
       "      <td>USC00203712</td>\n",
       "      <td>2015-02-21</td>\n",
       "      <td>TMIN</td>\n",
       "      <td>-322</td>\n",
       "    </tr>\n",
       "    <tr>\n",
       "      <th>137824</th>\n",
       "      <td>USC00208972</td>\n",
       "      <td>2015-02-20</td>\n",
       "      <td>TMIN</td>\n",
       "      <td>-322</td>\n",
       "    </tr>\n",
       "    <tr>\n",
       "      <th>140515</th>\n",
       "      <td>USC00201502</td>\n",
       "      <td>2015-02-20</td>\n",
       "      <td>TMIN</td>\n",
       "      <td>-317</td>\n",
       "    </tr>\n",
       "    <tr>\n",
       "      <th>141374</th>\n",
       "      <td>USW00094889</td>\n",
       "      <td>2015-02-20</td>\n",
       "      <td>TMIN</td>\n",
       "      <td>-343</td>\n",
       "    </tr>\n",
       "  </tbody>\n",
       "</table>\n",
       "</div>"
      ],
      "text/plain": [
       "                 ID       Date Element  Data_Value\n",
       "127333  USC00208972 2015-02-21    TMIN        -322\n",
       "128105  USC00203712 2015-02-21    TMIN        -322\n",
       "137824  USC00208972 2015-02-20    TMIN        -322\n",
       "140515  USC00201502 2015-02-20    TMIN        -317\n",
       "141374  USW00094889 2015-02-20    TMIN        -343"
      ]
     },
     "execution_count": 13,
     "metadata": {},
     "output_type": "execute_result"
    }
   ],
   "source": [
    "\n",
    "a = temp_data.loc[(temp_data.Date>='2015-1-1') & (temp_data.Date<'2016-1-1') & (temp_data.Data_Value>tmax_2005_14) \\\n",
    "                 | (temp_data.Data_Value<tmin_2005_14)]\n",
    "a"
   ]
  },
  {
   "cell_type": "markdown",
   "id": "9ef756cd",
   "metadata": {},
   "source": [
    "### Overlay a scatter of the 2015 data for any points (highs and lows) for which the ten year record (2005-2014) record high or record low was broken in 2015."
   ]
  },
  {
   "cell_type": "code",
   "execution_count": 14,
   "id": "add32058",
   "metadata": {},
   "outputs": [
    {
     "data": {
      "text/plain": [
       "<matplotlib.legend.Legend at 0x7fb491b14280>"
      ]
     },
     "execution_count": 14,
     "metadata": {},
     "output_type": "execute_result"
    },
    {
     "data": {
      "image/png": "[encoded data removed]",
      "text/plain": [
       "<Figure size 864x504 with 1 Axes>"
      ]
     },
     "metadata": {
      "needs_background": "light"
     },
     "output_type": "display_data"
    }
   ],
   "source": [
    "plt.figure(figsize=(12,7))\n",
    "sns.scatterplot(x=a.Date, y=a.Data_Value)\n",
    "plt.legend('Temp value', bbox_to_anchor=(1.1,1))"
   ]
  },
  {
   "cell_type": "markdown",
   "id": "57691418",
   "metadata": {},
   "source": [
    "### Plot Temperature Summary near Ann Arbor, Michigan, United States (Year 2015)."
   ]
  },
  {
   "cell_type": "code",
   "execution_count": 15,
   "id": "b2b30228",
   "metadata": {},
   "outputs": [
    {
     "data": {
      "text/plain": [
       "Text(0.5, 6.79999999999999, 'Temp Data value')"
      ]
     },
     "execution_count": 15,
     "metadata": {},
     "output_type": "execute_result"
    },
    {
     "data": {
      "text/plain": [
       "<Figure size 864x504 with 0 Axes>"
      ]
     },
     "metadata": {},
     "output_type": "display_data"
    },
    {
     "data": {
      "image/png": "[encoded data removed]",
      "text/plain": [
       "<Figure size 360x360 with 1 Axes>"
      ]
     },
     "metadata": {
      "needs_background": "light"
     },
     "output_type": "display_data"
    }
   ],
   "source": [
    "x = temp_data[temp_data.Date.apply(lambda x: x.year==2015)]\n",
    "plt.figure(figsize=(12,7))\n",
    "sns.displot(x.Data_Value)\n",
    "plt.xlabel('Temp Data value')"
   ]
  },
  {
   "cell_type": "markdown",
   "id": "79dbd188",
   "metadata": {},
   "source": [
    "### Identify the correlation between fires and acres."
   ]
  },
  {
   "cell_type": "code",
   "execution_count": 16,
   "id": "e570f530",
   "metadata": {},
   "outputs": [],
   "source": [
    "weather_data.Acres = weather_data.Acres.apply(lambda x: int(x.encode(\"ascii\", \"ignore\").decode()))\n",
    "weather_data.Fires = weather_data.Fires.apply(lambda x: int(x.encode(\"ascii\", \"ignore\").decode()))"
   ]
  },
  {
   "cell_type": "code",
   "execution_count": 17,
   "id": "79bcf28e",
   "metadata": {},
   "outputs": [
    {
     "name": "stdout",
     "output_type": "stream",
     "text": [
      "Correlation between Fires and Acers : 0.5296336923555135\n"
     ]
    }
   ],
   "source": [
    "print('Correlation between Fires and Acers :', weather_data.Acres.corr(weather_data.Fires))"
   ]
  },
  {
   "cell_type": "markdown",
   "id": "18902925",
   "metadata": {},
   "source": [
    "### Compute moving averages for 5years of fires and acres."
   ]
  },
  {
   "cell_type": "code",
   "execution_count": 18,
   "id": "6b2466fa",
   "metadata": {},
   "outputs": [
    {
     "data": {
      "text/html": [
       "<div>\n",
       "<style scoped>\n",
       "    .dataframe tbody tr th:only-of-type {\n",
       "        vertical-align: middle;\n",
       "    }\n",
       "\n",
       "    .dataframe tbody tr th {\n",
       "        vertical-align: top;\n",
       "    }\n",
       "\n",
       "    .dataframe thead th {\n",
       "        text-align: right;\n",
       "    }\n",
       "</style>\n",
       "<table border=\"1\" class=\"dataframe\">\n",
       "  <thead>\n",
       "    <tr style=\"text-align: right;\">\n",
       "      <th></th>\n",
       "      <th>Year</th>\n",
       "      <th>Fires</th>\n",
       "      <th>Acres</th>\n",
       "      <th>MA_Acres</th>\n",
       "      <th>MA_fire</th>\n",
       "    </tr>\n",
       "  </thead>\n",
       "  <tbody>\n",
       "    <tr>\n",
       "      <th>0</th>\n",
       "      <td>2019</td>\n",
       "      <td>50477</td>\n",
       "      <td>4664364</td>\n",
       "      <td>NaN</td>\n",
       "      <td>NaN</td>\n",
       "    </tr>\n",
       "    <tr>\n",
       "      <th>1</th>\n",
       "      <td>2018</td>\n",
       "      <td>58083</td>\n",
       "      <td>8767492</td>\n",
       "      <td>NaN</td>\n",
       "      <td>NaN</td>\n",
       "    </tr>\n",
       "    <tr>\n",
       "      <th>2</th>\n",
       "      <td>2017</td>\n",
       "      <td>71499</td>\n",
       "      <td>10026086</td>\n",
       "      <td>NaN</td>\n",
       "      <td>NaN</td>\n",
       "    </tr>\n",
       "    <tr>\n",
       "      <th>3</th>\n",
       "      <td>2016</td>\n",
       "      <td>67743</td>\n",
       "      <td>5509995</td>\n",
       "      <td>NaN</td>\n",
       "      <td>NaN</td>\n",
       "    </tr>\n",
       "    <tr>\n",
       "      <th>4</th>\n",
       "      <td>2015</td>\n",
       "      <td>68151</td>\n",
       "      <td>10125149</td>\n",
       "      <td>7818617.2</td>\n",
       "      <td>63190.6</td>\n",
       "    </tr>\n",
       "    <tr>\n",
       "      <th>...</th>\n",
       "      <td>...</td>\n",
       "      <td>...</td>\n",
       "      <td>...</td>\n",
       "      <td>...</td>\n",
       "      <td>...</td>\n",
       "    </tr>\n",
       "    <tr>\n",
       "      <th>89</th>\n",
       "      <td>1930</td>\n",
       "      <td>190980</td>\n",
       "      <td>52266000</td>\n",
       "      <td>46329400.0</td>\n",
       "      <td>169595.6</td>\n",
       "    </tr>\n",
       "    <tr>\n",
       "      <th>90</th>\n",
       "      <td>1929</td>\n",
       "      <td>134895</td>\n",
       "      <td>46230000</td>\n",
       "      <td>47211200.0</td>\n",
       "      <td>164042.0</td>\n",
       "    </tr>\n",
       "    <tr>\n",
       "      <th>91</th>\n",
       "      <td>1928</td>\n",
       "      <td>175934</td>\n",
       "      <td>43542000</td>\n",
       "      <td>47141600.0</td>\n",
       "      <td>171084.4</td>\n",
       "    </tr>\n",
       "    <tr>\n",
       "      <th>92</th>\n",
       "      <td>1927</td>\n",
       "      <td>158438</td>\n",
       "      <td>38531000</td>\n",
       "      <td>46435200.0</td>\n",
       "      <td>169492.2</td>\n",
       "    </tr>\n",
       "    <tr>\n",
       "      <th>93</th>\n",
       "      <td>1926</td>\n",
       "      <td>91793</td>\n",
       "      <td>24316000</td>\n",
       "      <td>40977000.0</td>\n",
       "      <td>150408.0</td>\n",
       "    </tr>\n",
       "  </tbody>\n",
       "</table>\n",
       "<p>94 rows × 5 columns</p>\n",
       "</div>"
      ],
      "text/plain": [
       "    Year   Fires     Acres    MA_Acres   MA_fire\n",
       "0   2019   50477   4664364         NaN       NaN\n",
       "1   2018   58083   8767492         NaN       NaN\n",
       "2   2017   71499  10026086         NaN       NaN\n",
       "3   2016   67743   5509995         NaN       NaN\n",
       "4   2015   68151  10125149   7818617.2   63190.6\n",
       "..   ...     ...       ...         ...       ...\n",
       "89  1930  190980  52266000  46329400.0  169595.6\n",
       "90  1929  134895  46230000  47211200.0  164042.0\n",
       "91  1928  175934  43542000  47141600.0  171084.4\n",
       "92  1927  158438  38531000  46435200.0  169492.2\n",
       "93  1926   91793  24316000  40977000.0  150408.0\n",
       "\n",
       "[94 rows x 5 columns]"
      ]
     },
     "execution_count": 18,
     "metadata": {},
     "output_type": "execute_result"
    }
   ],
   "source": [
    "weather_data['MA_Acres'] = weather_data.Acres.rolling(window=5).mean()\n",
    "weather_data['MA_fire'] = weather_data.Fires.rolling(window=5).mean()\n",
    "weather_data"
   ]
  },
  {
   "cell_type": "markdown",
   "id": "2b706e0c",
   "metadata": {},
   "source": [
    "### Develop the relation plot for Number of Fires and Acres Burned in US in years 1987 to 2019."
   ]
  },
  {
   "cell_type": "code",
   "execution_count": 19,
   "id": "b1715d58",
   "metadata": {},
   "outputs": [
    {
     "data": {
      "text/plain": [
       "<AxesSubplot:xlabel='Acres', ylabel='Fires'>"
      ]
     },
     "execution_count": 19,
     "metadata": {},
     "output_type": "execute_result"
    },
    {
     "data": {
      "image/png": "[encoded data removed]",
      "text/plain": [
       "<Figure size 864x504 with 1 Axes>"
      ]
     },
     "metadata": {
      "needs_background": "light"
     },
     "output_type": "display_data"
    }
   ],
   "source": [
    "x = weather_data[(weather_data.Year>=1987) & (weather_data.Year<2020)]\n",
    "plt.figure(figsize=(12,7))\n",
    "sns.scatterplot(x=x.Acres, y=x.Fires)"
   ]
  },
  {
   "cell_type": "code",
   "execution_count": 20,
   "id": "7555b725",
   "metadata": {},
   "outputs": [],
   "source": [
    "\n",
    "# 1. select k.kname as kname, p.pname as pname from kids k, person p where proj.pname='payment management' and dept.dname='computer';\n",
    "\n",
    "# 2. select pr.pname, p.pname from proj pr, person p inner join works_on w on w.pno = p.pno inner join proj pr on pr.prno = w.prno;\n",
    "\n",
    "# 3. select p.pname, e.grade from peson p, employ e where p.pno=e.pno "
   ]
  },
  {
   "cell_type": "code",
   "execution_count": null,
   "id": "813760e2",
   "metadata": {},
   "outputs": [],
   "source": []
  }
 ],
 "metadata": {
  "kernelspec": {
   "display_name": "Python 3",
   "language": "python",
   "name": "python3"
  },
  "language_info": {
   "codemirror_mode": {
    "name": "ipython",
    "version": 3
   },
   "file_extension": ".py",
   "mimetype": "text/x-python",
   "name": "python",
   "nbconvert_exporter": "python",
   "pygments_lexer": "ipython3",
   "version": "3.8.10"
  }
 },
 "nbformat": 4,
 "nbformat_minor": 5
}
